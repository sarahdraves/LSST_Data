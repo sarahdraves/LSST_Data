{
 "cells": [
  {
   "cell_type": "raw",
   "id": "d5a07e9a-b978-4504-87f0-e000e52a8d2e",
   "metadata": {},
   "source": [
    "SELECT TOP 10000\n",
    "\tobject.objectId as obj_id\n",
    "\t,object.refExtendedness as extendedness\n",
    "\t,matches.truth_type as truth_type\n",
    "FROM dp02_dc2_catalogs.Object object\n",
    "\tJOIN dp02_dc2_catalogs.MatchesTruth matches on object.objectId=matches.match_objectId"
   ]
  },
  {
   "cell_type": "code",
   "execution_count": 2,
   "id": "73df3194-1dbb-4ab1-9e70-47aca30885c3",
   "metadata": {
    "execution": {
     "iopub.execute_input": "2024-06-28T17:22:56.839351Z",
     "iopub.status.busy": "2024-06-28T17:22:56.838588Z",
     "iopub.status.idle": "2024-06-28T17:22:56.842230Z",
     "shell.execute_reply": "2024-06-28T17:22:56.841731Z",
     "shell.execute_reply.started": "2024-06-28T17:22:56.839326Z"
    }
   },
   "outputs": [],
   "source": [
    "import numpy as np\n",
    "import pandas as pd\n",
    "from lsst.rsp import get_tap_service, retrieve_query"
   ]
  },
  {
   "cell_type": "code",
   "execution_count": 3,
   "id": "345b7515-7eb3-4cca-998c-9b3cdc7b49bb",
   "metadata": {
    "execution": {
     "iopub.execute_input": "2024-06-28T17:22:58.826049Z",
     "iopub.status.busy": "2024-06-28T17:22:58.825304Z",
     "iopub.status.idle": "2024-06-28T17:22:58.878849Z",
     "shell.execute_reply": "2024-06-28T17:22:58.878220Z",
     "shell.execute_reply.started": "2024-06-28T17:22:58.826024Z"
    }
   },
   "outputs": [],
   "source": [
    "service = get_tap_service(\"tap\")"
   ]
  },
  {
   "cell_type": "code",
   "execution_count": 4,
   "id": "be0b5925-9d69-496f-8fbe-2bd5ca191bae",
   "metadata": {
    "execution": {
     "iopub.execute_input": "2024-06-28T17:23:01.163085Z",
     "iopub.status.busy": "2024-06-28T17:23:01.162325Z",
     "iopub.status.idle": "2024-06-28T17:23:01.166019Z",
     "shell.execute_reply": "2024-06-28T17:23:01.165443Z",
     "shell.execute_reply.started": "2024-06-28T17:23:01.163062Z"
    }
   },
   "outputs": [],
   "source": [
    "my_adql_query = \"SELECT TOP 10000 \"+ \\\n",
    "\t\"object.objectId as obj_id \"+ \\\n",
    "\t\",object.refExtendedness as extendedness \"+ \\\n",
    "\t\",matches.truth_type as truth_type \"+ \\\n",
    "    \"FROM dp02_dc2_catalogs.Object object \"+ \\\n",
    "\t\"JOIN dp02_dc2_catalogs.MatchesTruth matches on object.objectId=matches.match_objectId\""
   ]
  },
  {
   "cell_type": "code",
   "execution_count": 5,
   "id": "cc6ec6d5-ac05-4bd7-8c8d-8eb4716b81ec",
   "metadata": {
    "execution": {
     "iopub.execute_input": "2024-06-28T17:23:03.099675Z",
     "iopub.status.busy": "2024-06-28T17:23:03.099282Z",
     "iopub.status.idle": "2024-06-28T17:23:08.670770Z",
     "shell.execute_reply": "2024-06-28T17:23:08.670207Z",
     "shell.execute_reply.started": "2024-06-28T17:23:03.099648Z"
    }
   },
   "outputs": [
    {
     "data": {
      "text/html": [
       "<div>\n",
       "<style scoped>\n",
       "    .dataframe tbody tr th:only-of-type {\n",
       "        vertical-align: middle;\n",
       "    }\n",
       "\n",
       "    .dataframe tbody tr th {\n",
       "        vertical-align: top;\n",
       "    }\n",
       "\n",
       "    .dataframe thead th {\n",
       "        text-align: right;\n",
       "    }\n",
       "</style>\n",
       "<table border=\"1\" class=\"dataframe\">\n",
       "  <thead>\n",
       "    <tr style=\"text-align: right;\">\n",
       "      <th></th>\n",
       "      <th>obj_id</th>\n",
       "      <th>extendedness</th>\n",
       "      <th>truth_type</th>\n",
       "    </tr>\n",
       "  </thead>\n",
       "  <tbody>\n",
       "    <tr>\n",
       "      <th>0</th>\n",
       "      <td>1248684569339659648</td>\n",
       "      <td>0.0</td>\n",
       "      <td>1</td>\n",
       "    </tr>\n",
       "    <tr>\n",
       "      <th>1</th>\n",
       "      <td>1248684569339659638</td>\n",
       "      <td>1.0</td>\n",
       "      <td>1</td>\n",
       "    </tr>\n",
       "    <tr>\n",
       "      <th>2</th>\n",
       "      <td>1248684569339659639</td>\n",
       "      <td>0.0</td>\n",
       "      <td>2</td>\n",
       "    </tr>\n",
       "    <tr>\n",
       "      <th>3</th>\n",
       "      <td>1248684569339659642</td>\n",
       "      <td>1.0</td>\n",
       "      <td>1</td>\n",
       "    </tr>\n",
       "    <tr>\n",
       "      <th>4</th>\n",
       "      <td>1248684569339659643</td>\n",
       "      <td>1.0</td>\n",
       "      <td>1</td>\n",
       "    </tr>\n",
       "    <tr>\n",
       "      <th>...</th>\n",
       "      <td>...</td>\n",
       "      <td>...</td>\n",
       "      <td>...</td>\n",
       "    </tr>\n",
       "    <tr>\n",
       "      <th>9995</th>\n",
       "      <td>1248684569339654895</td>\n",
       "      <td>1.0</td>\n",
       "      <td>1</td>\n",
       "    </tr>\n",
       "    <tr>\n",
       "      <th>9996</th>\n",
       "      <td>1248684569339654903</td>\n",
       "      <td>1.0</td>\n",
       "      <td>1</td>\n",
       "    </tr>\n",
       "    <tr>\n",
       "      <th>9997</th>\n",
       "      <td>1248684569339654902</td>\n",
       "      <td>1.0</td>\n",
       "      <td>1</td>\n",
       "    </tr>\n",
       "    <tr>\n",
       "      <th>9998</th>\n",
       "      <td>1248684569339654901</td>\n",
       "      <td>1.0</td>\n",
       "      <td>1</td>\n",
       "    </tr>\n",
       "    <tr>\n",
       "      <th>9999</th>\n",
       "      <td>1248684569339654900</td>\n",
       "      <td>1.0</td>\n",
       "      <td>1</td>\n",
       "    </tr>\n",
       "  </tbody>\n",
       "</table>\n",
       "<p>10000 rows × 3 columns</p>\n",
       "</div>"
      ],
      "text/plain": [
       "                   obj_id  extendedness  truth_type\n",
       "0     1248684569339659648           0.0           1\n",
       "1     1248684569339659638           1.0           1\n",
       "2     1248684569339659639           0.0           2\n",
       "3     1248684569339659642           1.0           1\n",
       "4     1248684569339659643           1.0           1\n",
       "...                   ...           ...         ...\n",
       "9995  1248684569339654895           1.0           1\n",
       "9996  1248684569339654903           1.0           1\n",
       "9997  1248684569339654902           1.0           1\n",
       "9998  1248684569339654901           1.0           1\n",
       "9999  1248684569339654900           1.0           1\n",
       "\n",
       "[10000 rows x 3 columns]"
      ]
     },
     "execution_count": 5,
     "metadata": {},
     "output_type": "execute_result"
    }
   ],
   "source": [
    "results = service.search(my_adql_query)\n",
    "results_table = results.to_table().to_pandas()\n",
    "results_table"
   ]
  },
  {
   "cell_type": "code",
   "execution_count": 6,
   "id": "79655969-b3b8-4d02-b738-57538d97e2c0",
   "metadata": {
    "execution": {
     "iopub.execute_input": "2024-06-28T17:23:08.684707Z",
     "iopub.status.busy": "2024-06-28T17:23:08.684516Z",
     "iopub.status.idle": "2024-06-28T17:23:08.689542Z",
     "shell.execute_reply": "2024-06-28T17:23:08.689110Z",
     "shell.execute_reply.started": "2024-06-28T17:23:08.684691Z"
    }
   },
   "outputs": [
    {
     "data": {
      "text/plain": [
       "(7894, 3)"
      ]
     },
     "execution_count": 6,
     "metadata": {},
     "output_type": "execute_result"
    }
   ],
   "source": [
    "galaxy_galaxy=results_table[(results_table[\"extendedness\"]==1.0) & (results_table[\"truth_type\"]==1)]\n",
    "galaxy_galaxy.shape"
   ]
  },
  {
   "cell_type": "code",
   "execution_count": 7,
   "id": "acca4041-a915-4c16-aea4-5177e0872d87",
   "metadata": {
    "execution": {
     "iopub.execute_input": "2024-06-28T17:23:14.879659Z",
     "iopub.status.busy": "2024-06-28T17:23:14.879342Z",
     "iopub.status.idle": "2024-06-28T17:23:14.885369Z",
     "shell.execute_reply": "2024-06-28T17:23:14.884907Z",
     "shell.execute_reply.started": "2024-06-28T17:23:14.879636Z"
    }
   },
   "outputs": [
    {
     "data": {
      "text/plain": [
       "(1860, 3)"
      ]
     },
     "execution_count": 7,
     "metadata": {},
     "output_type": "execute_result"
    }
   ],
   "source": [
    "not_galaxy=results_table[(results_table[\"extendedness\"]==0.0) & (results_table[\"truth_type\"]==1)]\n",
    "not_galaxy.shape"
   ]
  },
  {
   "cell_type": "code",
   "execution_count": 8,
   "id": "3ec6bc1e-170b-4f89-af65-2f5fd8cdac1a",
   "metadata": {
    "execution": {
     "iopub.execute_input": "2024-06-28T17:23:18.502890Z",
     "iopub.status.busy": "2024-06-28T17:23:18.502449Z",
     "iopub.status.idle": "2024-06-28T17:23:18.508674Z",
     "shell.execute_reply": "2024-06-28T17:23:18.508070Z",
     "shell.execute_reply.started": "2024-06-28T17:23:18.502864Z"
    }
   },
   "outputs": [
    {
     "data": {
      "text/plain": [
       "(95, 3)"
      ]
     },
     "execution_count": 8,
     "metadata": {},
     "output_type": "execute_result"
    }
   ],
   "source": [
    "galaxy_not=results_table[(results_table[\"extendedness\"]==1.0) & (results_table[\"truth_type\"]!=1)]\n",
    "galaxy_not.shape"
   ]
  },
  {
   "cell_type": "code",
   "execution_count": 9,
   "id": "f152500f-c911-4cf3-abd5-102995d60774",
   "metadata": {
    "execution": {
     "iopub.execute_input": "2024-06-28T17:23:19.413190Z",
     "iopub.status.busy": "2024-06-28T17:23:19.412875Z",
     "iopub.status.idle": "2024-06-28T17:23:19.418787Z",
     "shell.execute_reply": "2024-06-28T17:23:19.418282Z",
     "shell.execute_reply.started": "2024-06-28T17:23:19.413168Z"
    }
   },
   "outputs": [
    {
     "data": {
      "text/plain": [
       "(148, 3)"
      ]
     },
     "execution_count": 9,
     "metadata": {},
     "output_type": "execute_result"
    }
   ],
   "source": [
    "not_not=results_table[(results_table[\"extendedness\"]==0.0) & (results_table[\"truth_type\"]!=1)]\n",
    "not_not.shape"
   ]
  },
  {
   "cell_type": "raw",
   "id": "1c985c36-0b43-4afe-99ea-f8e9477e0a73",
   "metadata": {
    "execution": {
     "iopub.execute_input": "2024-06-27T17:50:24.457680Z",
     "iopub.status.busy": "2024-06-27T17:50:24.457126Z",
     "iopub.status.idle": "2024-06-27T17:50:24.460737Z",
     "shell.execute_reply": "2024-06-27T17:50:24.460207Z",
     "shell.execute_reply.started": "2024-06-27T17:50:24.457655Z"
    }
   },
   "source": [
    "    \",case when extendedness==1 and truth_type==1 then 'true positive' \"+ \\\n",
    "    \"when extendedness==1 and truth_type!=1 then 'false positive' \"+ \\\n",
    "    \"when extendedness==0 and truth_type==1 then 'false negative' \"+ \\\n",
    "    \"when extendedness==0 and truth_type!=1 then 'true negative \"+ \\\n",
    "    \"else null end as galaxy_match \"+ \\"
   ]
  },
  {
   "cell_type": "code",
   "execution_count": 10,
   "id": "bfa7b7ab-2cdc-4d04-9e30-5f9b38d04f60",
   "metadata": {
    "execution": {
     "iopub.execute_input": "2024-06-28T17:23:24.552703Z",
     "iopub.status.busy": "2024-06-28T17:23:24.551938Z",
     "iopub.status.idle": "2024-06-28T17:23:24.561661Z",
     "shell.execute_reply": "2024-06-28T17:23:24.561129Z",
     "shell.execute_reply.started": "2024-06-28T17:23:24.552678Z"
    }
   },
   "outputs": [],
   "source": [
    "condlist = [np.logical_and(results_table[\"extendedness\"]==1, results_table[\"truth_type\"]==1),\n",
    "            np.logical_and(results_table[\"extendedness\"]==1, results_table[\"truth_type\"]!=1),\n",
    "            np.logical_and(results_table[\"extendedness\"]==0, results_table[\"truth_type\"]==1),\n",
    "            np.logical_and(results_table[\"extendedness\"]==0, results_table[\"truth_type\"]!=1)]\n",
    "choicelist = ['true positive','false positive','false negative','true negative']\n",
    "results_table['galaxy_match']=np.select(condlist, choicelist, np.NaN)"
   ]
  },
  {
   "cell_type": "code",
   "execution_count": 11,
   "id": "c74db35f-044e-4507-b0ed-f0e9fac62923",
   "metadata": {
    "execution": {
     "iopub.execute_input": "2024-06-28T17:23:27.711810Z",
     "iopub.status.busy": "2024-06-28T17:23:27.711206Z",
     "iopub.status.idle": "2024-06-28T17:23:27.721367Z",
     "shell.execute_reply": "2024-06-28T17:23:27.720838Z",
     "shell.execute_reply.started": "2024-06-28T17:23:27.711771Z"
    }
   },
   "outputs": [
    {
     "data": {
      "text/html": [
       "<div>\n",
       "<style scoped>\n",
       "    .dataframe tbody tr th:only-of-type {\n",
       "        vertical-align: middle;\n",
       "    }\n",
       "\n",
       "    .dataframe tbody tr th {\n",
       "        vertical-align: top;\n",
       "    }\n",
       "\n",
       "    .dataframe thead th {\n",
       "        text-align: right;\n",
       "    }\n",
       "</style>\n",
       "<table border=\"1\" class=\"dataframe\">\n",
       "  <thead>\n",
       "    <tr style=\"text-align: right;\">\n",
       "      <th></th>\n",
       "      <th>obj_id</th>\n",
       "      <th>extendedness</th>\n",
       "      <th>truth_type</th>\n",
       "      <th>galaxy_match</th>\n",
       "    </tr>\n",
       "  </thead>\n",
       "  <tbody>\n",
       "    <tr>\n",
       "      <th>0</th>\n",
       "      <td>1248684569339659648</td>\n",
       "      <td>0.0</td>\n",
       "      <td>1</td>\n",
       "      <td>false negative</td>\n",
       "    </tr>\n",
       "    <tr>\n",
       "      <th>1</th>\n",
       "      <td>1248684569339659638</td>\n",
       "      <td>1.0</td>\n",
       "      <td>1</td>\n",
       "      <td>true positive</td>\n",
       "    </tr>\n",
       "    <tr>\n",
       "      <th>2</th>\n",
       "      <td>1248684569339659639</td>\n",
       "      <td>0.0</td>\n",
       "      <td>2</td>\n",
       "      <td>true negative</td>\n",
       "    </tr>\n",
       "    <tr>\n",
       "      <th>3</th>\n",
       "      <td>1248684569339659642</td>\n",
       "      <td>1.0</td>\n",
       "      <td>1</td>\n",
       "      <td>true positive</td>\n",
       "    </tr>\n",
       "    <tr>\n",
       "      <th>4</th>\n",
       "      <td>1248684569339659643</td>\n",
       "      <td>1.0</td>\n",
       "      <td>1</td>\n",
       "      <td>true positive</td>\n",
       "    </tr>\n",
       "    <tr>\n",
       "      <th>...</th>\n",
       "      <td>...</td>\n",
       "      <td>...</td>\n",
       "      <td>...</td>\n",
       "      <td>...</td>\n",
       "    </tr>\n",
       "    <tr>\n",
       "      <th>9995</th>\n",
       "      <td>1248684569339654895</td>\n",
       "      <td>1.0</td>\n",
       "      <td>1</td>\n",
       "      <td>true positive</td>\n",
       "    </tr>\n",
       "    <tr>\n",
       "      <th>9996</th>\n",
       "      <td>1248684569339654903</td>\n",
       "      <td>1.0</td>\n",
       "      <td>1</td>\n",
       "      <td>true positive</td>\n",
       "    </tr>\n",
       "    <tr>\n",
       "      <th>9997</th>\n",
       "      <td>1248684569339654902</td>\n",
       "      <td>1.0</td>\n",
       "      <td>1</td>\n",
       "      <td>true positive</td>\n",
       "    </tr>\n",
       "    <tr>\n",
       "      <th>9998</th>\n",
       "      <td>1248684569339654901</td>\n",
       "      <td>1.0</td>\n",
       "      <td>1</td>\n",
       "      <td>true positive</td>\n",
       "    </tr>\n",
       "    <tr>\n",
       "      <th>9999</th>\n",
       "      <td>1248684569339654900</td>\n",
       "      <td>1.0</td>\n",
       "      <td>1</td>\n",
       "      <td>true positive</td>\n",
       "    </tr>\n",
       "  </tbody>\n",
       "</table>\n",
       "<p>10000 rows × 4 columns</p>\n",
       "</div>"
      ],
      "text/plain": [
       "                   obj_id  extendedness  truth_type    galaxy_match\n",
       "0     1248684569339659648           0.0           1  false negative\n",
       "1     1248684569339659638           1.0           1   true positive\n",
       "2     1248684569339659639           0.0           2   true negative\n",
       "3     1248684569339659642           1.0           1   true positive\n",
       "4     1248684569339659643           1.0           1   true positive\n",
       "...                   ...           ...         ...             ...\n",
       "9995  1248684569339654895           1.0           1   true positive\n",
       "9996  1248684569339654903           1.0           1   true positive\n",
       "9997  1248684569339654902           1.0           1   true positive\n",
       "9998  1248684569339654901           1.0           1   true positive\n",
       "9999  1248684569339654900           1.0           1   true positive\n",
       "\n",
       "[10000 rows x 4 columns]"
      ]
     },
     "execution_count": 11,
     "metadata": {},
     "output_type": "execute_result"
    }
   ],
   "source": [
    "results_table"
   ]
  },
  {
   "cell_type": "markdown",
   "id": "3be1ae7a-9e92-4cf6-a5d6-917702fb5e63",
   "metadata": {},
   "source": [
    "- make function that can take the column of \"is galaxy\" and \"truth_type\" and return a statement like \"% true positive, %false negative, etc\""
   ]
  },
  {
   "cell_type": "code",
   "execution_count": 12,
   "id": "72851b9e-89ee-42f6-ace4-a535ab58f6a0",
   "metadata": {
    "execution": {
     "iopub.execute_input": "2024-06-28T17:23:43.631674Z",
     "iopub.status.busy": "2024-06-28T17:23:43.630728Z",
     "iopub.status.idle": "2024-06-28T17:23:43.636772Z",
     "shell.execute_reply": "2024-06-28T17:23:43.636240Z",
     "shell.execute_reply.started": "2024-06-28T17:23:43.631640Z"
    }
   },
   "outputs": [
    {
     "data": {
      "text/plain": [
       "1860"
      ]
     },
     "execution_count": 12,
     "metadata": {},
     "output_type": "execute_result"
    }
   ],
   "source": [
    "np.count_nonzero(results_table['galaxy_match']=='false negative')"
   ]
  },
  {
   "cell_type": "code",
   "execution_count": 22,
   "id": "10fa9016-262b-4724-88a9-60601387b6d0",
   "metadata": {
    "execution": {
     "iopub.execute_input": "2024-06-28T17:32:35.665399Z",
     "iopub.status.busy": "2024-06-28T17:32:35.664515Z",
     "iopub.status.idle": "2024-06-28T17:32:35.669761Z",
     "shell.execute_reply": "2024-06-28T17:32:35.669149Z",
     "shell.execute_reply.started": "2024-06-28T17:32:35.665369Z"
    }
   },
   "outputs": [],
   "source": [
    "def galaxy_match(galaxy_calc, galaxy_truth):\n",
    "    print(galaxy_calc)\n",
    "    print(galaxy_truth)\n",
    "    condlist = [np.logical_and(galaxy_calc==1, galaxy_truth==1),\n",
    "            np.logical_and(galaxy_calc==1, galaxy_truth!=1),\n",
    "            np.logical_and(galaxy_calc==0, galaxy_truth==1),\n",
    "            np.logical_and(galaxy_calc==0, galaxy_truth!=1)]\n",
    "    choicelist = ['true positive','false positive','false negative','true negative']\n",
    "    matched_array=np.select(condlist, choicelist, np.NaN)\n",
    "    print(matched_array)\n",
    "    return matched_array"
   ]
  },
  {
   "cell_type": "code",
   "execution_count": 23,
   "id": "01ff4513-92b3-49e1-8ef3-db8fb23ac1cb",
   "metadata": {
    "execution": {
     "iopub.execute_input": "2024-06-28T17:32:37.920649Z",
     "iopub.status.busy": "2024-06-28T17:32:37.919765Z",
     "iopub.status.idle": "2024-06-28T17:32:37.928624Z",
     "shell.execute_reply": "2024-06-28T17:32:37.928043Z",
     "shell.execute_reply.started": "2024-06-28T17:32:37.920623Z"
    }
   },
   "outputs": [
    {
     "name": "stdout",
     "output_type": "stream",
     "text": [
      "0       0.0\n",
      "1       1.0\n",
      "2       0.0\n",
      "3       1.0\n",
      "4       1.0\n",
      "       ... \n",
      "9995    1.0\n",
      "9996    1.0\n",
      "9997    1.0\n",
      "9998    1.0\n",
      "9999    1.0\n",
      "Name: extendedness, Length: 10000, dtype: float64\n",
      "0       1\n",
      "1       1\n",
      "2       2\n",
      "3       1\n",
      "4       1\n",
      "       ..\n",
      "9995    1\n",
      "9996    1\n",
      "9997    1\n",
      "9998    1\n",
      "9999    1\n",
      "Name: truth_type, Length: 10000, dtype: int64\n",
      "['false negative' 'true positive' 'true negative' ... 'true positive'\n",
      " 'true positive' 'true positive']\n"
     ]
    }
   ],
   "source": [
    "myarray=galaxy_match(results_table[\"extendedness\"],results_table[\"truth_type\"])"
   ]
  },
  {
   "cell_type": "code",
   "execution_count": 17,
   "id": "55d9145a-42db-49f4-8a0e-6ba27640a4e4",
   "metadata": {
    "execution": {
     "iopub.execute_input": "2024-06-28T17:29:24.450427Z",
     "iopub.status.busy": "2024-06-28T17:29:24.449515Z",
     "iopub.status.idle": "2024-06-28T17:29:24.454396Z",
     "shell.execute_reply": "2024-06-28T17:29:24.453829Z",
     "shell.execute_reply.started": "2024-06-28T17:29:24.450401Z"
    }
   },
   "outputs": [
    {
     "data": {
      "text/plain": [
       "array(['nan', 'true positive', 'nan', ..., 'true positive',\n",
       "       'true positive', 'true positive'], dtype='<U32')"
      ]
     },
     "execution_count": 17,
     "metadata": {},
     "output_type": "execute_result"
    }
   ],
   "source": [
    "myarray"
   ]
  },
  {
   "cell_type": "code",
   "execution_count": 24,
   "id": "ebb7d9dc-0410-4cac-b3eb-4c43bcfabcb6",
   "metadata": {
    "execution": {
     "iopub.execute_input": "2024-06-28T17:32:44.360273Z",
     "iopub.status.busy": "2024-06-28T17:32:44.359426Z",
     "iopub.status.idle": "2024-06-28T17:32:44.365901Z",
     "shell.execute_reply": "2024-06-28T17:32:44.365292Z",
     "shell.execute_reply.started": "2024-06-28T17:32:44.360247Z"
    }
   },
   "outputs": [],
   "source": [
    "results_table['galaxy_match2']=myarray"
   ]
  },
  {
   "cell_type": "code",
   "execution_count": 25,
   "id": "7de9a4b8-6042-4af6-95a8-fa4854e1663d",
   "metadata": {
    "execution": {
     "iopub.execute_input": "2024-06-28T17:32:46.279364Z",
     "iopub.status.busy": "2024-06-28T17:32:46.278514Z",
     "iopub.status.idle": "2024-06-28T17:32:46.289440Z",
     "shell.execute_reply": "2024-06-28T17:32:46.288830Z",
     "shell.execute_reply.started": "2024-06-28T17:32:46.279339Z"
    }
   },
   "outputs": [
    {
     "data": {
      "text/html": [
       "<div>\n",
       "<style scoped>\n",
       "    .dataframe tbody tr th:only-of-type {\n",
       "        vertical-align: middle;\n",
       "    }\n",
       "\n",
       "    .dataframe tbody tr th {\n",
       "        vertical-align: top;\n",
       "    }\n",
       "\n",
       "    .dataframe thead th {\n",
       "        text-align: right;\n",
       "    }\n",
       "</style>\n",
       "<table border=\"1\" class=\"dataframe\">\n",
       "  <thead>\n",
       "    <tr style=\"text-align: right;\">\n",
       "      <th></th>\n",
       "      <th>obj_id</th>\n",
       "      <th>extendedness</th>\n",
       "      <th>truth_type</th>\n",
       "      <th>galaxy_match</th>\n",
       "      <th>galaxy_match2</th>\n",
       "    </tr>\n",
       "  </thead>\n",
       "  <tbody>\n",
       "    <tr>\n",
       "      <th>0</th>\n",
       "      <td>1248684569339659648</td>\n",
       "      <td>0.0</td>\n",
       "      <td>1</td>\n",
       "      <td>false negative</td>\n",
       "      <td>false negative</td>\n",
       "    </tr>\n",
       "    <tr>\n",
       "      <th>1</th>\n",
       "      <td>1248684569339659638</td>\n",
       "      <td>1.0</td>\n",
       "      <td>1</td>\n",
       "      <td>true positive</td>\n",
       "      <td>true positive</td>\n",
       "    </tr>\n",
       "    <tr>\n",
       "      <th>2</th>\n",
       "      <td>1248684569339659639</td>\n",
       "      <td>0.0</td>\n",
       "      <td>2</td>\n",
       "      <td>true negative</td>\n",
       "      <td>true negative</td>\n",
       "    </tr>\n",
       "    <tr>\n",
       "      <th>3</th>\n",
       "      <td>1248684569339659642</td>\n",
       "      <td>1.0</td>\n",
       "      <td>1</td>\n",
       "      <td>true positive</td>\n",
       "      <td>true positive</td>\n",
       "    </tr>\n",
       "    <tr>\n",
       "      <th>4</th>\n",
       "      <td>1248684569339659643</td>\n",
       "      <td>1.0</td>\n",
       "      <td>1</td>\n",
       "      <td>true positive</td>\n",
       "      <td>true positive</td>\n",
       "    </tr>\n",
       "    <tr>\n",
       "      <th>...</th>\n",
       "      <td>...</td>\n",
       "      <td>...</td>\n",
       "      <td>...</td>\n",
       "      <td>...</td>\n",
       "      <td>...</td>\n",
       "    </tr>\n",
       "    <tr>\n",
       "      <th>9995</th>\n",
       "      <td>1248684569339654895</td>\n",
       "      <td>1.0</td>\n",
       "      <td>1</td>\n",
       "      <td>true positive</td>\n",
       "      <td>true positive</td>\n",
       "    </tr>\n",
       "    <tr>\n",
       "      <th>9996</th>\n",
       "      <td>1248684569339654903</td>\n",
       "      <td>1.0</td>\n",
       "      <td>1</td>\n",
       "      <td>true positive</td>\n",
       "      <td>true positive</td>\n",
       "    </tr>\n",
       "    <tr>\n",
       "      <th>9997</th>\n",
       "      <td>1248684569339654902</td>\n",
       "      <td>1.0</td>\n",
       "      <td>1</td>\n",
       "      <td>true positive</td>\n",
       "      <td>true positive</td>\n",
       "    </tr>\n",
       "    <tr>\n",
       "      <th>9998</th>\n",
       "      <td>1248684569339654901</td>\n",
       "      <td>1.0</td>\n",
       "      <td>1</td>\n",
       "      <td>true positive</td>\n",
       "      <td>true positive</td>\n",
       "    </tr>\n",
       "    <tr>\n",
       "      <th>9999</th>\n",
       "      <td>1248684569339654900</td>\n",
       "      <td>1.0</td>\n",
       "      <td>1</td>\n",
       "      <td>true positive</td>\n",
       "      <td>true positive</td>\n",
       "    </tr>\n",
       "  </tbody>\n",
       "</table>\n",
       "<p>10000 rows × 5 columns</p>\n",
       "</div>"
      ],
      "text/plain": [
       "                   obj_id  extendedness  truth_type    galaxy_match  \\\n",
       "0     1248684569339659648           0.0           1  false negative   \n",
       "1     1248684569339659638           1.0           1   true positive   \n",
       "2     1248684569339659639           0.0           2   true negative   \n",
       "3     1248684569339659642           1.0           1   true positive   \n",
       "4     1248684569339659643           1.0           1   true positive   \n",
       "...                   ...           ...         ...             ...   \n",
       "9995  1248684569339654895           1.0           1   true positive   \n",
       "9996  1248684569339654903           1.0           1   true positive   \n",
       "9997  1248684569339654902           1.0           1   true positive   \n",
       "9998  1248684569339654901           1.0           1   true positive   \n",
       "9999  1248684569339654900           1.0           1   true positive   \n",
       "\n",
       "       galaxy_match2  \n",
       "0     false negative  \n",
       "1      true positive  \n",
       "2      true negative  \n",
       "3      true positive  \n",
       "4      true positive  \n",
       "...              ...  \n",
       "9995   true positive  \n",
       "9996   true positive  \n",
       "9997   true positive  \n",
       "9998   true positive  \n",
       "9999   true positive  \n",
       "\n",
       "[10000 rows x 5 columns]"
      ]
     },
     "execution_count": 25,
     "metadata": {},
     "output_type": "execute_result"
    }
   ],
   "source": [
    "results_table"
   ]
  },
  {
   "cell_type": "code",
   "execution_count": 26,
   "id": "5b35da99-d21e-4baf-82e9-3f2ab1c4d76e",
   "metadata": {
    "execution": {
     "iopub.execute_input": "2024-06-28T17:33:05.137668Z",
     "iopub.status.busy": "2024-06-28T17:33:05.136825Z",
     "iopub.status.idle": "2024-06-28T17:33:05.143971Z",
     "shell.execute_reply": "2024-06-28T17:33:05.143427Z",
     "shell.execute_reply.started": "2024-06-28T17:33:05.137643Z"
    }
   },
   "outputs": [
    {
     "data": {
      "text/plain": [
       "0       True\n",
       "1       True\n",
       "2       True\n",
       "3       True\n",
       "4       True\n",
       "        ... \n",
       "9995    True\n",
       "9996    True\n",
       "9997    True\n",
       "9998    True\n",
       "9999    True\n",
       "Length: 10000, dtype: bool"
      ]
     },
     "execution_count": 26,
     "metadata": {},
     "output_type": "execute_result"
    }
   ],
   "source": [
    "results_table['galaxy_match2']==results_table['galaxy_match']"
   ]
  },
  {
   "cell_type": "code",
   "execution_count": 28,
   "id": "a19b4f22-ff16-4ed5-a5d0-f88ee99ebcfe",
   "metadata": {
    "execution": {
     "iopub.execute_input": "2024-06-28T17:35:35.019365Z",
     "iopub.status.busy": "2024-06-28T17:35:35.018491Z",
     "iopub.status.idle": "2024-06-28T17:35:35.024837Z",
     "shell.execute_reply": "2024-06-28T17:35:35.024306Z",
     "shell.execute_reply.started": "2024-06-28T17:35:35.019341Z"
    }
   },
   "outputs": [
    {
     "data": {
      "text/plain": [
       "10000"
      ]
     },
     "execution_count": 28,
     "metadata": {},
     "output_type": "execute_result"
    }
   ],
   "source": [
    "np.count_nonzero((results_table['galaxy_match2']==results_table['galaxy_match'])==True)"
   ]
  },
  {
   "cell_type": "code",
   "execution_count": 38,
   "id": "4ef9c529-d950-46a6-9546-5e66c59e12f0",
   "metadata": {
    "execution": {
     "iopub.execute_input": "2024-06-28T17:58:47.954982Z",
     "iopub.status.busy": "2024-06-28T17:58:47.954231Z",
     "iopub.status.idle": "2024-06-28T17:58:47.959463Z",
     "shell.execute_reply": "2024-06-28T17:58:47.958828Z",
     "shell.execute_reply.started": "2024-06-28T17:58:47.954957Z"
    }
   },
   "outputs": [],
   "source": [
    "def confusion_matrix(matched_array, style='percents'):\n",
    "    total=matched_array.size\n",
    "    tp=np.count_nonzero(matched_array=='true positive')\n",
    "    fp=np.count_nonzero(matched_array=='false positive')\n",
    "    fn=np.count_nonzero(matched_array=='false negative')\n",
    "    tn=np.count_nonzero(matched_array=='true negative')\n",
    "    sums_matrix={'total':total, 'true positive':tp, 'false positive':fp, 'false negative':fn, 'true negative':tn}\n",
    "    percents_matrix={'true positive %':(\"{:.1%}\".format(tp/total)), 'false positive %':(\"{:.1%}\".format(fp/total)), \n",
    "                     'false negative %':(\"{:.1%}\".format(fn/total)), 'true negative %':(\"{:.1%}\".format(tn/total))}\n",
    "    if style=='percents':\n",
    "        return percents_matrix\n",
    "    elif style=='sums':\n",
    "        return sums_matrix\n",
    "    else:\n",
    "        pass"
   ]
  },
  {
   "cell_type": "code",
   "execution_count": 39,
   "id": "a356a849-3325-4e39-9da6-c20dfd68c9b2",
   "metadata": {
    "execution": {
     "iopub.execute_input": "2024-06-28T17:59:07.118719Z",
     "iopub.status.busy": "2024-06-28T17:59:07.118401Z",
     "iopub.status.idle": "2024-06-28T17:59:07.123668Z",
     "shell.execute_reply": "2024-06-28T17:59:07.123141Z",
     "shell.execute_reply.started": "2024-06-28T17:59:07.118699Z"
    }
   },
   "outputs": [
    {
     "data": {
      "text/plain": [
       "{'true positive %': '78.9%',\n",
       " 'false positive %': '0.9%',\n",
       " 'false negative %': '18.6%',\n",
       " 'true negative %': '1.5%'}"
      ]
     },
     "execution_count": 39,
     "metadata": {},
     "output_type": "execute_result"
    }
   ],
   "source": [
    "confusion_matrix(myarray)"
   ]
  },
  {
   "cell_type": "code",
   "execution_count": null,
   "id": "76af63e7-d38c-4247-9120-9acfddcb3b22",
   "metadata": {},
   "outputs": [],
   "source": []
  }
 ],
 "metadata": {
  "kernelspec": {
   "display_name": "LSST",
   "language": "python",
   "name": "lsst"
  },
  "language_info": {
   "codemirror_mode": {
    "name": "ipython",
    "version": 3
   },
   "file_extension": ".py",
   "mimetype": "text/x-python",
   "name": "python",
   "nbconvert_exporter": "python",
   "pygments_lexer": "ipython3",
   "version": "3.11.7"
  }
 },
 "nbformat": 4,
 "nbformat_minor": 5
}
