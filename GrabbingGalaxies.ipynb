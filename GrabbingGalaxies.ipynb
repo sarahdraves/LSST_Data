{
 "cells": [
  {
   "cell_type": "raw",
   "id": "d5a07e9a-b978-4504-87f0-e000e52a8d2e",
   "metadata": {},
   "source": [
    "SELECT TOP 10000\n",
    "\tobject.objectId as obj_id\n",
    "\t,object.refExtendedness as extendedness\n",
    "\t,matches.truth_type as truth_type\n",
    "FROM dp02_dc2_catalogs.Object object\n",
    "\tJOIN dp02_dc2_catalogs.MatchesTruth matches on object.objectId=matches.match_objectId"
   ]
  },
  {
   "cell_type": "code",
   "execution_count": 1,
   "id": "73df3194-1dbb-4ab1-9e70-47aca30885c3",
   "metadata": {
    "execution": {
     "iopub.execute_input": "2024-06-25T19:56:30.649017Z",
     "iopub.status.busy": "2024-06-25T19:56:30.648684Z",
     "iopub.status.idle": "2024-06-25T19:56:30.652176Z",
     "shell.execute_reply": "2024-06-25T19:56:30.651598Z",
     "shell.execute_reply.started": "2024-06-25T19:56:30.648995Z"
    }
   },
   "outputs": [],
   "source": [
    "import numpy\n",
    "import pandas\n",
    "from lsst.rsp import get_tap_service, retrieve_query"
   ]
  },
  {
   "cell_type": "code",
   "execution_count": 2,
   "id": "345b7515-7eb3-4cca-998c-9b3cdc7b49bb",
   "metadata": {
    "execution": {
     "iopub.execute_input": "2024-06-25T19:56:37.094880Z",
     "iopub.status.busy": "2024-06-25T19:56:37.094226Z",
     "iopub.status.idle": "2024-06-25T19:56:37.148587Z",
     "shell.execute_reply": "2024-06-25T19:56:37.147979Z",
     "shell.execute_reply.started": "2024-06-25T19:56:37.094854Z"
    }
   },
   "outputs": [],
   "source": [
    "service = get_tap_service(\"tap\")"
   ]
  },
  {
   "cell_type": "code",
   "execution_count": 26,
   "id": "be0b5925-9d69-496f-8fbe-2bd5ca191bae",
   "metadata": {
    "execution": {
     "iopub.execute_input": "2024-06-25T20:09:50.162463Z",
     "iopub.status.busy": "2024-06-25T20:09:50.161760Z",
     "iopub.status.idle": "2024-06-25T20:09:50.165254Z",
     "shell.execute_reply": "2024-06-25T20:09:50.164711Z",
     "shell.execute_reply.started": "2024-06-25T20:09:50.162442Z"
    }
   },
   "outputs": [],
   "source": [
    "my_adql_query = \"SELECT TOP 10000 \"+ \\\n",
    "\t\"object.objectId as obj_id\"+ \\\n",
    "\t\",object.refExtendedness as extendedness\"+ \\\n",
    "\t\",matches.truth_type as truth_type \"+ \\\n",
    "    \"FROM dp02_dc2_catalogs.Object object \"+ \\\n",
    "\t\"JOIN dp02_dc2_catalogs.MatchesTruth matches on object.objectId=matches.match_objectId\""
   ]
  },
  {
   "cell_type": "code",
   "execution_count": 27,
   "id": "cc6ec6d5-ac05-4bd7-8c8d-8eb4716b81ec",
   "metadata": {
    "execution": {
     "iopub.execute_input": "2024-06-25T20:10:08.171988Z",
     "iopub.status.busy": "2024-06-25T20:10:08.171188Z",
     "iopub.status.idle": "2024-06-25T20:10:09.438816Z",
     "shell.execute_reply": "2024-06-25T20:10:09.438229Z",
     "shell.execute_reply.started": "2024-06-25T20:10:08.171950Z"
    }
   },
   "outputs": [
    {
     "data": {
      "text/html": [
       "<div>\n",
       "<style scoped>\n",
       "    .dataframe tbody tr th:only-of-type {\n",
       "        vertical-align: middle;\n",
       "    }\n",
       "\n",
       "    .dataframe tbody tr th {\n",
       "        vertical-align: top;\n",
       "    }\n",
       "\n",
       "    .dataframe thead th {\n",
       "        text-align: right;\n",
       "    }\n",
       "</style>\n",
       "<table border=\"1\" class=\"dataframe\">\n",
       "  <thead>\n",
       "    <tr style=\"text-align: right;\">\n",
       "      <th></th>\n",
       "      <th>obj_id</th>\n",
       "      <th>extendedness</th>\n",
       "      <th>truth_type</th>\n",
       "    </tr>\n",
       "  </thead>\n",
       "  <tbody>\n",
       "    <tr>\n",
       "      <th>0</th>\n",
       "      <td>1248640588874548987</td>\n",
       "      <td>1.0</td>\n",
       "      <td>1</td>\n",
       "    </tr>\n",
       "    <tr>\n",
       "      <th>1</th>\n",
       "      <td>1248640588874548975</td>\n",
       "      <td>1.0</td>\n",
       "      <td>1</td>\n",
       "    </tr>\n",
       "    <tr>\n",
       "      <th>2</th>\n",
       "      <td>1248640588874548976</td>\n",
       "      <td>0.0</td>\n",
       "      <td>1</td>\n",
       "    </tr>\n",
       "    <tr>\n",
       "      <th>3</th>\n",
       "      <td>1248640588874548978</td>\n",
       "      <td>1.0</td>\n",
       "      <td>1</td>\n",
       "    </tr>\n",
       "    <tr>\n",
       "      <th>4</th>\n",
       "      <td>1248640588874548979</td>\n",
       "      <td>0.0</td>\n",
       "      <td>1</td>\n",
       "    </tr>\n",
       "    <tr>\n",
       "      <th>...</th>\n",
       "      <td>...</td>\n",
       "      <td>...</td>\n",
       "      <td>...</td>\n",
       "    </tr>\n",
       "    <tr>\n",
       "      <th>9995</th>\n",
       "      <td>1248640588874547536</td>\n",
       "      <td>1.0</td>\n",
       "      <td>1</td>\n",
       "    </tr>\n",
       "    <tr>\n",
       "      <th>9996</th>\n",
       "      <td>1248640588874547539</td>\n",
       "      <td>0.0</td>\n",
       "      <td>2</td>\n",
       "    </tr>\n",
       "    <tr>\n",
       "      <th>9997</th>\n",
       "      <td>1248640588874547540</td>\n",
       "      <td>1.0</td>\n",
       "      <td>1</td>\n",
       "    </tr>\n",
       "    <tr>\n",
       "      <th>9998</th>\n",
       "      <td>1248640588874547541</td>\n",
       "      <td>0.0</td>\n",
       "      <td>1</td>\n",
       "    </tr>\n",
       "    <tr>\n",
       "      <th>9999</th>\n",
       "      <td>1248640588874547542</td>\n",
       "      <td>1.0</td>\n",
       "      <td>1</td>\n",
       "    </tr>\n",
       "  </tbody>\n",
       "</table>\n",
       "<p>10000 rows × 3 columns</p>\n",
       "</div>"
      ],
      "text/plain": [
       "                   obj_id  extendedness  truth_type\n",
       "0     1248640588874548987           1.0           1\n",
       "1     1248640588874548975           1.0           1\n",
       "2     1248640588874548976           0.0           1\n",
       "3     1248640588874548978           1.0           1\n",
       "4     1248640588874548979           0.0           1\n",
       "...                   ...           ...         ...\n",
       "9995  1248640588874547536           1.0           1\n",
       "9996  1248640588874547539           0.0           2\n",
       "9997  1248640588874547540           1.0           1\n",
       "9998  1248640588874547541           0.0           1\n",
       "9999  1248640588874547542           1.0           1\n",
       "\n",
       "[10000 rows x 3 columns]"
      ]
     },
     "execution_count": 27,
     "metadata": {},
     "output_type": "execute_result"
    }
   ],
   "source": [
    "results = service.search(my_adql_query)\n",
    "results_table = results.to_table().to_pandas()\n",
    "results_table"
   ]
  },
  {
   "cell_type": "code",
   "execution_count": 31,
   "id": "79655969-b3b8-4d02-b738-57538d97e2c0",
   "metadata": {
    "execution": {
     "iopub.execute_input": "2024-06-25T20:32:45.671428Z",
     "iopub.status.busy": "2024-06-25T20:32:45.670655Z",
     "iopub.status.idle": "2024-06-25T20:32:45.675820Z",
     "shell.execute_reply": "2024-06-25T20:32:45.675199Z",
     "shell.execute_reply.started": "2024-06-25T20:32:45.671404Z"
    }
   },
   "outputs": [],
   "source": [
    "galaxy_galaxy=results_table[(results_table[\"extendedness\"]==1.0) & (results_table[\"truth_type\"]==1)]"
   ]
  },
  {
   "cell_type": "code",
   "execution_count": 32,
   "id": "ff8346cf-6020-4cb0-b1f1-d5f104d1edfb",
   "metadata": {
    "execution": {
     "iopub.execute_input": "2024-06-25T20:32:47.454970Z",
     "iopub.status.busy": "2024-06-25T20:32:47.454256Z",
     "iopub.status.idle": "2024-06-25T20:32:47.460615Z",
     "shell.execute_reply": "2024-06-25T20:32:47.459788Z",
     "shell.execute_reply.started": "2024-06-25T20:32:47.454936Z"
    }
   },
   "outputs": [
    {
     "data": {
      "text/plain": [
       "(7737, 3)"
      ]
     },
     "execution_count": 32,
     "metadata": {},
     "output_type": "execute_result"
    }
   ],
   "source": [
    "galaxy_galaxy.shape"
   ]
  },
  {
   "cell_type": "code",
   "execution_count": 33,
   "id": "acca4041-a915-4c16-aea4-5177e0872d87",
   "metadata": {
    "execution": {
     "iopub.execute_input": "2024-06-25T20:33:18.965650Z",
     "iopub.status.busy": "2024-06-25T20:33:18.965280Z",
     "iopub.status.idle": "2024-06-25T20:33:18.972768Z",
     "shell.execute_reply": "2024-06-25T20:33:18.972122Z",
     "shell.execute_reply.started": "2024-06-25T20:33:18.965622Z"
    }
   },
   "outputs": [
    {
     "data": {
      "text/plain": [
       "(2012, 3)"
      ]
     },
     "execution_count": 33,
     "metadata": {},
     "output_type": "execute_result"
    }
   ],
   "source": [
    "not_galaxy=results_table[(results_table[\"extendedness\"]==0.0) & (results_table[\"truth_type\"]==1)]\n",
    "not_galaxy.shape"
   ]
  },
  {
   "cell_type": "code",
   "execution_count": 34,
   "id": "3ec6bc1e-170b-4f89-af65-2f5fd8cdac1a",
   "metadata": {
    "execution": {
     "iopub.execute_input": "2024-06-25T20:34:05.817976Z",
     "iopub.status.busy": "2024-06-25T20:34:05.817221Z",
     "iopub.status.idle": "2024-06-25T20:34:05.823526Z",
     "shell.execute_reply": "2024-06-25T20:34:05.822980Z",
     "shell.execute_reply.started": "2024-06-25T20:34:05.817951Z"
    }
   },
   "outputs": [
    {
     "data": {
      "text/plain": [
       "(100, 3)"
      ]
     },
     "execution_count": 34,
     "metadata": {},
     "output_type": "execute_result"
    }
   ],
   "source": [
    "galaxy_not=results_table[(results_table[\"extendedness\"]==1.0) & (results_table[\"truth_type\"]!=1)]\n",
    "galaxy_not.shape"
   ]
  },
  {
   "cell_type": "code",
   "execution_count": 35,
   "id": "f152500f-c911-4cf3-abd5-102995d60774",
   "metadata": {
    "execution": {
     "iopub.execute_input": "2024-06-25T20:34:22.332396Z",
     "iopub.status.busy": "2024-06-25T20:34:22.331990Z",
     "iopub.status.idle": "2024-06-25T20:34:22.338313Z",
     "shell.execute_reply": "2024-06-25T20:34:22.337735Z",
     "shell.execute_reply.started": "2024-06-25T20:34:22.332375Z"
    }
   },
   "outputs": [
    {
     "data": {
      "text/plain": [
       "(149, 3)"
      ]
     },
     "execution_count": 35,
     "metadata": {},
     "output_type": "execute_result"
    }
   ],
   "source": [
    "not_not=results_table[(results_table[\"extendedness\"]==0.0) & (results_table[\"truth_type\"]!=1)]\n",
    "not_not.shape"
   ]
  },
  {
   "cell_type": "code",
   "execution_count": 37,
   "id": "1d29da55-dba1-4380-92a7-2fa53ae7a5b0",
   "metadata": {
    "execution": {
     "iopub.execute_input": "2024-06-25T20:35:04.206689Z",
     "iopub.status.busy": "2024-06-25T20:35:04.205892Z",
     "iopub.status.idle": "2024-06-25T20:35:04.216111Z",
     "shell.execute_reply": "2024-06-25T20:35:04.215433Z",
     "shell.execute_reply.started": "2024-06-25T20:35:04.206668Z"
    }
   },
   "outputs": [
    {
     "data": {
      "text/html": [
       "<div>\n",
       "<style scoped>\n",
       "    .dataframe tbody tr th:only-of-type {\n",
       "        vertical-align: middle;\n",
       "    }\n",
       "\n",
       "    .dataframe tbody tr th {\n",
       "        vertical-align: top;\n",
       "    }\n",
       "\n",
       "    .dataframe thead th {\n",
       "        text-align: right;\n",
       "    }\n",
       "</style>\n",
       "<table border=\"1\" class=\"dataframe\">\n",
       "  <thead>\n",
       "    <tr style=\"text-align: right;\">\n",
       "      <th></th>\n",
       "      <th>obj_id</th>\n",
       "      <th>extendedness</th>\n",
       "      <th>truth_type</th>\n",
       "    </tr>\n",
       "  </thead>\n",
       "  <tbody>\n",
       "    <tr>\n",
       "      <th>2</th>\n",
       "      <td>1248640588874548976</td>\n",
       "      <td>0.0</td>\n",
       "      <td>1</td>\n",
       "    </tr>\n",
       "    <tr>\n",
       "      <th>4</th>\n",
       "      <td>1248640588874548979</td>\n",
       "      <td>0.0</td>\n",
       "      <td>1</td>\n",
       "    </tr>\n",
       "    <tr>\n",
       "      <th>7</th>\n",
       "      <td>1248640588874548989</td>\n",
       "      <td>0.0</td>\n",
       "      <td>1</td>\n",
       "    </tr>\n",
       "    <tr>\n",
       "      <th>25</th>\n",
       "      <td>1248640588874548966</td>\n",
       "      <td>0.0</td>\n",
       "      <td>1</td>\n",
       "    </tr>\n",
       "    <tr>\n",
       "      <th>34</th>\n",
       "      <td>1248640588874549034</td>\n",
       "      <td>0.0</td>\n",
       "      <td>1</td>\n",
       "    </tr>\n",
       "    <tr>\n",
       "      <th>...</th>\n",
       "      <td>...</td>\n",
       "      <td>...</td>\n",
       "      <td>...</td>\n",
       "    </tr>\n",
       "    <tr>\n",
       "      <th>9974</th>\n",
       "      <td>1248640588874547456</td>\n",
       "      <td>0.0</td>\n",
       "      <td>1</td>\n",
       "    </tr>\n",
       "    <tr>\n",
       "      <th>9976</th>\n",
       "      <td>1248640588874547458</td>\n",
       "      <td>0.0</td>\n",
       "      <td>1</td>\n",
       "    </tr>\n",
       "    <tr>\n",
       "      <th>9978</th>\n",
       "      <td>1248640588874547460</td>\n",
       "      <td>0.0</td>\n",
       "      <td>1</td>\n",
       "    </tr>\n",
       "    <tr>\n",
       "      <th>9993</th>\n",
       "      <td>1248640588874547534</td>\n",
       "      <td>0.0</td>\n",
       "      <td>1</td>\n",
       "    </tr>\n",
       "    <tr>\n",
       "      <th>9998</th>\n",
       "      <td>1248640588874547541</td>\n",
       "      <td>0.0</td>\n",
       "      <td>1</td>\n",
       "    </tr>\n",
       "  </tbody>\n",
       "</table>\n",
       "<p>2012 rows × 3 columns</p>\n",
       "</div>"
      ],
      "text/plain": [
       "                   obj_id  extendedness  truth_type\n",
       "2     1248640588874548976           0.0           1\n",
       "4     1248640588874548979           0.0           1\n",
       "7     1248640588874548989           0.0           1\n",
       "25    1248640588874548966           0.0           1\n",
       "34    1248640588874549034           0.0           1\n",
       "...                   ...           ...         ...\n",
       "9974  1248640588874547456           0.0           1\n",
       "9976  1248640588874547458           0.0           1\n",
       "9978  1248640588874547460           0.0           1\n",
       "9993  1248640588874547534           0.0           1\n",
       "9998  1248640588874547541           0.0           1\n",
       "\n",
       "[2012 rows x 3 columns]"
      ]
     },
     "execution_count": 37,
     "metadata": {},
     "output_type": "execute_result"
    }
   ],
   "source": [
    "not_galaxy"
   ]
  },
  {
   "cell_type": "code",
   "execution_count": null,
   "id": "b9195598-5d9f-4674-82d8-43e30a2cc628",
   "metadata": {},
   "outputs": [],
   "source": []
  }
 ],
 "metadata": {
  "kernelspec": {
   "display_name": "LSST",
   "language": "python",
   "name": "lsst"
  },
  "language_info": {
   "codemirror_mode": {
    "name": "ipython",
    "version": 3
   },
   "file_extension": ".py",
   "mimetype": "text/x-python",
   "name": "python",
   "nbconvert_exporter": "python",
   "pygments_lexer": "ipython3",
   "version": "3.11.7"
  }
 },
 "nbformat": 4,
 "nbformat_minor": 5
}
