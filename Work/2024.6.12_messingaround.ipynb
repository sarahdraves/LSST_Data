{
 "cells": [
  {
   "cell_type": "code",
   "execution_count": 1,
   "id": "b1401780-5191-422a-9f62-1baa41c5fb1d",
   "metadata": {
    "execution": {
     "iopub.execute_input": "2024-06-11T16:50:33.533386Z",
     "iopub.status.busy": "2024-06-11T16:50:33.532932Z",
     "iopub.status.idle": "2024-06-11T16:50:33.549205Z",
     "shell.execute_reply": "2024-06-11T16:50:33.548598Z",
     "shell.execute_reply.started": "2024-06-11T16:50:33.533365Z"
    }
   },
   "outputs": [
    {
     "data": {
      "text/plain": [
       "'g5a732f18d5+66d966b544'"
      ]
     },
     "execution_count": 1,
     "metadata": {},
     "output_type": "execute_result"
    }
   ],
   "source": [
    "from lsst import afw\n",
    "afw.version.__version__"
   ]
  },
  {
   "cell_type": "code",
   "execution_count": null,
   "id": "5feb5229-614d-4992-acb0-952c5f2493b5",
   "metadata": {},
   "outputs": [],
   "source": []
  }
 ],
 "metadata": {
  "kernelspec": {
   "display_name": "LSST",
   "language": "python",
   "name": "lsst"
  },
  "language_info": {
   "codemirror_mode": {
    "name": "ipython",
    "version": 3
   },
   "file_extension": ".py",
   "mimetype": "text/x-python",
   "name": "python",
   "nbconvert_exporter": "python",
   "pygments_lexer": "ipython3",
   "version": "3.11.7"
  }
 },
 "nbformat": 4,
 "nbformat_minor": 5
}
